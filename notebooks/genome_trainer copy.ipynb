{
 "cells": [
  {
   "cell_type": "code",
   "execution_count": 1,
   "metadata": {},
   "outputs": [
    {
     "name": "stderr",
     "output_type": "stream",
     "text": [
      "/home/nima/miniconda3/envs/bittensor/lib/python3.10/site-packages/tqdm/auto.py:21: TqdmWarning: IProgress not found. Please update jupyter and ipywidgets. See https://ipywidgets.readthedocs.io/en/stable/user_install.html\n",
      "  from .autonotebook import tqdm as notebook_tqdm\n",
      "/home/nima/miniconda3/envs/bittensor/lib/python3.10/site-packages/transformers/utils/generic.py:441: UserWarning: torch.utils._pytree._register_pytree_node is deprecated. Please use torch.utils._pytree.register_pytree_node instead.\n",
      "  _torch_pytree._register_pytree_node(\n"
     ]
    }
   ],
   "source": [
    "import sys\n",
    "sys.path.insert(0, '../nsga-net/')\n",
    "from search import train_search\n",
    "import os\n",
    "import pandas as pd\n",
    "import plotly.graph_objs as go\n",
    "import hashlib\n",
    "import plotly.io as pio\n",
    "import ast\n",
    "nas_log_dir = '/home/nima/genologs/search-GA-BiObj-micro-20240425-060906'\n",
    "import json\n",
    "from datetime import datetime"
   ]
  },
  {
   "cell_type": "code",
   "execution_count": 2,
   "metadata": {},
   "outputs": [],
   "source": [
    "def draw_pareto_graph(log_directory):\n",
    "    accuracy_values = []\n",
    "    num_parameters_values = []\n",
    "    file_names = []\n",
    "    assigned_users = []\n",
    "\n",
    "    for filename in os.listdir(log_directory):\n",
    "        if filename.endswith('.csv'):\n",
    "            filepath = os.path.join(log_directory, filename)\n",
    "            df = pd.read_csv(filepath, skiprows=lambda x: x % 3 != 0)\n",
    "            if not df.empty:\n",
    "                for index, row in df.iterrows():\n",
    "                    response_list = eval(row['Response'])\n",
    "                    accuracy_values.append(response_list[0])\n",
    "                    num_parameters_values.append(response_list[1])\n",
    "                    file_names.append(filename)\n",
    "                    assigned_users.append(row.get('Assigned_User', 'N/A'))\n",
    "\n",
    "    # Check if the lists are empty\n",
    "    if not num_parameters_values or not accuracy_values:\n",
    "        # Create an empty plot with a consistent style\n",
    "        fig = go.Figure()\n",
    "        fig.add_trace(go.Scatter(x=[], y=[], mode='markers'))\n",
    "        fig.update_layout(\n",
    "            title='No data available',\n",
    "            xaxis=dict(\n",
    "                title='Number of Parameters',\n",
    "                title_font=dict(color='#FFFFFF'),\n",
    "                tickfont=dict(color='#FFFFFF'),\n",
    "                linecolor='#FFFFFF',\n",
    "                showgrid=False,\n",
    "                range=[0, 1]\n",
    "            ),\n",
    "            yaxis=dict(\n",
    "                title='Accuracy',\n",
    "                title_font=dict(color='#FFFFFF'),\n",
    "                tickfont=dict(color='#FFFFFF'),\n",
    "                linecolor='#FFFFFF',\n",
    "                showgrid=False,\n",
    "                range=[0, 1]\n",
    "            ),\n",
    "            plot_bgcolor='#171B23',\n",
    "            paper_bgcolor='#171B23',\n",
    "            legend=dict(font=dict(color='#FFFFFF')),\n",
    "            hovermode='closest',\n",
    "            hoverlabel=dict(font=dict(color='#FFFFFF')),\n",
    "            showlegend=False\n",
    "        )\n",
    "        return pio.to_html(fig, full_html=False)\n",
    "\n",
    "    # Compute unique colors for each file\n",
    "    unique_colors = [hashlib.sha256(name.encode()).hexdigest()[:6] for name in set(file_names)]\n",
    "\n",
    "    scatter_traces = []\n",
    "    for filename, color in zip(set(file_names), unique_colors):\n",
    "        x_values = [num_parameters_values[i] for i, name in enumerate(file_names) if name == filename]\n",
    "        y_values = [accuracy_values[i] for i, name in enumerate(file_names) if name == filename]\n",
    "        hover_text = [f\"uid:{assigned_users[i]}\" for i, name in enumerate(file_names) if name == filename]\n",
    "        scatter_trace = go.Scatter(\n",
    "            x=x_values,\n",
    "            y=y_values,\n",
    "            mode='markers',\n",
    "            name=filename.split('.')[0],\n",
    "            marker=dict(color=f'#{color}'),\n",
    "            hoverinfo='text',\n",
    "            text=hover_text\n",
    "        )\n",
    "        scatter_traces.append(scatter_trace)\n",
    "\n",
    "    pareto_optimal_points = find_pareto_optimal_points(accuracy_values, num_parameters_values)\n",
    "    print(pareto_optimal_points)\n",
    "    padding_factor = 0.01  # 10% padding\n",
    "    x_min, x_max = min(num_parameters_values), max(num_parameters_values)\n",
    "    y_min, y_max = min(accuracy_values), max(accuracy_values)\n",
    "    x_range = [(1 - padding_factor) * x_min, (1 + padding_factor) * x_max]\n",
    "    y_range = [(1 - padding_factor) * y_min, (1 + padding_factor) * y_max]\n",
    "\n",
    "    fig = go.Figure(data=scatter_traces)\n",
    "    if pareto_optimal_points:\n",
    "        pareto_x, pareto_y = zip(*pareto_optimal_points)\n",
    "        pareto_trace = go.Scatter(\n",
    "            x=pareto_x,\n",
    "            y=pareto_y,\n",
    "            mode='lines',\n",
    "            name='Pareto Optimal Line',\n",
    "            line=dict(color='#ff0000')\n",
    "        )\n",
    "        fig.add_trace(pareto_trace)\n",
    "\n",
    "    fig.update_layout(\n",
    "        title='Scatter Plot of Multi-Objective Optimization Scores',\n",
    "        xaxis=dict(\n",
    "            title='Number of Parameters',\n",
    "            range=x_range,\n",
    "            title_font=dict(color='#FFFFFF'),\n",
    "            tickfont=dict(color='#FFFFFF'),\n",
    "            linecolor='#FFFFFF',\n",
    "            showgrid=False\n",
    "        ),\n",
    "        yaxis=dict(\n",
    "            title='Accuracy',\n",
    "            range=y_range,\n",
    "            title_font=dict(color='#FFFFFF'),\n",
    "            tickfont=dict(color='#FFFFFF'),\n",
    "            linecolor='#FFFFFF',\n",
    "            showgrid=False\n",
    "        ),\n",
    "        plot_bgcolor='#171B23',\n",
    "        paper_bgcolor='#171B23',\n",
    "        legend=dict(font=dict(color='#FFFFFF')),\n",
    "        hovermode='closest',\n",
    "        hoverlabel=dict(font=dict(color='#FFFFFF')),\n",
    "        showlegend=False\n",
    "    )\n",
    "\n",
    "    return fig\n",
    "\n",
    "def find_pareto_optimal_points(accuracy, parameters):\n",
    "    pareto_optimal = []\n",
    "    for i in range(len(accuracy)):\n",
    "        is_pareto = True\n",
    "        for j in range(len(accuracy)):\n",
    "            if accuracy[i] <= accuracy[j] and parameters[i] >= parameters[j] and i != j:\n",
    "                is_pareto = False\n",
    "                break\n",
    "        if is_pareto:\n",
    "            pareto_optimal.append((parameters[i], accuracy[i]))\n",
    "    pareto_optimal.sort()\n",
    "    return pareto_optimal"
   ]
  },
  {
   "cell_type": "code",
   "execution_count": 20,
   "metadata": {},
   "outputs": [
    {
     "name": "stdout",
     "output_type": "stream",
     "text": [
      "[[0, 1, 0, 0, 1, 0, 0, 0, 0, 1, 0, 1, 0, 1, 1, 0, 1, 1, 0, 1, 0, 1, 0, 1, 0, 1, 1, 0, 0, 0, 0, 0, 0, 1, 0, 0, 0, 1, 1, 0, 1, 1, 0, 1, 0, 0], [0, 1, 1, 0, 0, 0, 0, 0, 1, 0, 0, 0, 0, 0, 0, 0, 0, 0, 0, 0, 0, 0, 0, 0, 0, 0, 0, 0, 0, 0, 0, 0, 1, 0, 0, 0, 0, 0, 0, 0, 0, 0, 0, 0, 0, 1], [0, 0, 0, 0, 0, 0, 0, 0, 0, 0, 0, 0, 0, 0, 0, 0, 0, 0, 0, 0, 0, 0, 0, 0, 0, 0, 0, 0, 0, 0, 0, 0, 0, 0, 0, 0, 0, 0, 0, 0, 0, 0, 0, 0, 0, 1]]\n"
     ]
    }
   ],
   "source": [
    "import pandas as pd\n",
    "import os\n",
    "import hashlib\n",
    "import plotly.graph_objs as go\n",
    "import plotly.io as pio\n",
    "\n",
    "def print_pareto(log_directory):\n",
    "    accuracy_values = []\n",
    "    num_parameters_values = []\n",
    "    file_names = []\n",
    "    assigned_users = []\n",
    "    genome_values = []  # Store Genome values\n",
    "\n",
    "    for filename in os.listdir(log_directory):\n",
    "        if filename.endswith('.csv'):\n",
    "            filepath = os.path.join(log_directory, filename)\n",
    "            df = pd.read_csv(filepath, skiprows=lambda x: x % 3 != 0)\n",
    "            for index, row in df.iterrows():\n",
    "                response_list = eval(row['Response'])\n",
    "                accuracy_values.append(response_list[0])\n",
    "                num_parameters_values.append(response_list[1])\n",
    "                file_names.append(filename)\n",
    "                assigned_users.append(row.get('Assigned_User', 'N/A'))\n",
    "                genome_values.append(row['Genome'])  # Collect Genome values\n",
    "\n",
    "    # Identify Pareto optimal points\n",
    "    pareto_indices = find_pareto(accuracy_values, num_parameters_values)\n",
    "\n",
    "    return pareto_indices, genome_values, assigned_users\n",
    "\n",
    "def find_pareto(accuracy, parameters):\n",
    "    pareto_optimal_indices = []\n",
    "    for i in range(len(accuracy)):\n",
    "        is_pareto = True\n",
    "        for j in range(len(accuracy)):\n",
    "            if accuracy[i] <= accuracy[j] and parameters[i] >= parameters[j] and i != j:\n",
    "                is_pareto = False\n",
    "                break\n",
    "        if is_pareto:\n",
    "            pareto_optimal_indices.append(i)\n",
    "    return pareto_optimal_indices\n",
    "\n",
    "pareto_indices, genome_values, assigned_users = print_pareto(nas_log_dir)\n",
    "# This is selcted from the Pareto Optimal Line from the figure below\n",
    "which_genome = 4\n",
    "for i in range(len(pareto_indices)):\n",
    "    if assigned_users[pareto_indices[i]] == which_genome:\n",
    "            genome_string_str = genome_values[pareto_indices[i]]\n",
    "            genome_string = ast.literal_eval(genome_string_str)\n",
    "            print(genome_string)\n",
    "    \n",
    "\n"
   ]
  },
  {
   "cell_type": "code",
   "execution_count": 18,
   "metadata": {},
   "outputs": [],
   "source": [
    "genome_string = [[0, 0],\n",
    "                  [0, 0, 0, 0, 0, 0],\n",
    "                  [0, 0, 0, 0, 0, 0, 0, 0, 0, 0, 0]]"
   ]
  },
  {
   "cell_type": "code",
   "execution_count": 21,
   "metadata": {},
   "outputs": [
    {
     "name": "stdout",
     "output_type": "stream",
     "text": [
      "Experiment dir : arch_1\n",
      "05/11 11:08:22 PM Architecture = [[[0], [1, 0], [0, 1, 0], [0, 0, 0, 1], [0, 1, 0, 1, 1], [0, 1, 1, 0, 1, 0], [1, 0, 1, 0, 1, 1, 0], [0, 0, 0, 0, 0, 1, 0, 0], [0, 1, 1, 0, 1, 1, 0, 1, 0], [0]], [[0], [1, 1], [0, 0, 0], [0, 0, 1, 0], [0, 0, 0, 0, 0], [0, 0, 0, 0, 0, 0], [0, 0, 0, 0, 0, 0, 0], [0, 0, 0, 0, 1, 0, 0, 0], [0, 0, 0, 0, 0, 0, 0, 0, 0], [1]], [[0], [0, 0], [0, 0, 0], [0, 0, 0, 0], [0, 0, 0, 0, 0], [0, 0, 0, 0, 0, 0], [0, 0, 0, 0, 0, 0, 0], [0, 0, 0, 0, 0, 0, 0, 0], [0, 0, 0, 0, 0, 0, 0, 0, 0], [1]]]\n",
      "05/11 11:08:22 PM param size = 0.399934MB\n",
      "\u001b[34m2024-05-11 23:08:23.182\u001b[0m | \u001b[1m      INFO      \u001b[0m | 👷 epoch 0 lr 0.02469315587086158\n"
     ]
    },
    {
     "name": "stderr",
     "output_type": "stream",
     "text": [
      "/home/nima/miniconda3/envs/bittensor/lib/python3.10/site-packages/torch/optim/lr_scheduler.py:143: UserWarning: Detected call of `lr_scheduler.step()` before `optimizer.step()`. In PyTorch 1.1.0 and later, you should call them in the opposite order: `optimizer.step()` before `lr_scheduler.step()`.  Failure to do this will result in PyTorch skipping the first value of the learning rate schedule. See more details at https://pytorch.org/docs/stable/optim.html#how-to-adjust-learning-rate\n",
      "  warnings.warn(\"Detected call of `lr_scheduler.step()` before `optimizer.step()`. \"\n",
      "/home/nima/miniconda3/envs/bittensor/lib/python3.10/site-packages/torch/optim/lr_scheduler.py:854: UserWarning: To get the last learning rate computed by the scheduler, please use `get_last_lr()`.\n",
      "  warnings.warn(\"To get the last learning rate computed by the scheduler, \"\n"
     ]
    },
    {
     "name": "stdout",
     "output_type": "stream",
     "text": [
      "\u001b[34m2024-05-11 23:08:36.362\u001b[0m | \u001b[1m      INFO      \u001b[0m | 👷 train_acc 37.265            \n",
      "\u001b[34m2024-05-11 23:08:36.363\u001b[0m | \u001b[1m      INFO      \u001b[0m | 👷 epoch 1 lr 0.02393874741347802\n",
      "\u001b[34m2024-05-11 23:08:49.492\u001b[0m | \u001b[1m      INFO      \u001b[0m | 👷 train_acc 53.7025           \n",
      "\u001b[34m2024-05-11 23:08:49.492\u001b[0m | \u001b[1m      INFO      \u001b[0m | 👷 epoch 2 lr 0.02291005952837051\n",
      "\u001b[34m2024-05-11 23:09:02.623\u001b[0m | \u001b[1m      INFO      \u001b[0m | 👷 train_acc 59.895            \n",
      "\u001b[34m2024-05-11 23:09:02.623\u001b[0m | \u001b[1m      INFO      \u001b[0m | 👷 epoch 3 lr 0.021632279186225744\n",
      "\u001b[34m2024-05-11 23:09:15.871\u001b[0m | \u001b[1m      INFO      \u001b[0m | 👷 train_acc 63.5725           \n",
      "\u001b[34m2024-05-11 23:09:15.872\u001b[0m | \u001b[1m      INFO      \u001b[0m | 👷 epoch 4 lr 0.02013672046361853\n",
      "\u001b[34m2024-05-11 23:09:29.111\u001b[0m | \u001b[1m      INFO      \u001b[0m | 👷 train_acc 66.8375           \n",
      "\u001b[34m2024-05-11 23:09:29.112\u001b[0m | \u001b[1m      INFO      \u001b[0m | 👷 epoch 5 lr 0.018460049154373746\n",
      "\u001b[34m2024-05-11 23:09:42.442\u001b[0m | \u001b[1m      INFO      \u001b[0m | 👷 train_acc 69.2775           \n",
      "\u001b[34m2024-05-11 23:09:42.442\u001b[0m | \u001b[1m      INFO      \u001b[0m | 👷 epoch 6 lr 0.016643374554906734\n",
      "\u001b[34m2024-05-11 23:09:55.736\u001b[0m | \u001b[1m      INFO      \u001b[0m | 👷 train_acc 71.1825           \n",
      "\u001b[34m2024-05-11 23:09:55.737\u001b[0m | \u001b[1m      INFO      \u001b[0m | 👷 epoch 7 lr 0.01473123012039423\n",
      "\u001b[34m2024-05-11 23:10:09.029\u001b[0m | \u001b[1m      INFO      \u001b[0m | 👷 train_acc 73.095            \n",
      "\u001b[34m2024-05-11 23:10:09.029\u001b[0m | \u001b[1m      INFO      \u001b[0m | 👷 epoch 8 lr 0.012770467053518492\n",
      "\u001b[34m2024-05-11 23:10:22.188\u001b[0m | \u001b[1m      INFO      \u001b[0m | 👷 train_acc 74.96             \n",
      "\u001b[34m2024-05-11 23:10:22.188\u001b[0m | \u001b[1m      INFO      \u001b[0m | 👷 epoch 9 lr 0.010809086358010908\n",
      "\u001b[34m2024-05-11 23:10:35.293\u001b[0m | \u001b[1m      INFO      \u001b[0m | 👷 train_acc 76.34             \n",
      "\u001b[34m2024-05-11 23:10:35.293\u001b[0m | \u001b[1m      INFO      \u001b[0m | 👷 epoch 10 lr 0.008895035147149526\n",
      "\u001b[34m2024-05-11 23:10:48.420\u001b[0m | \u001b[1m      INFO      \u001b[0m | 👷 train_acc 77.6              \n",
      "\u001b[34m2024-05-11 23:10:48.420\u001b[0m | \u001b[1m      INFO      \u001b[0m | 👷 epoch 11 lr 0.007074991424427418\n",
      "\u001b[34m2024-05-11 23:11:01.668\u001b[0m | \u001b[1m      INFO      \u001b[0m | 👷 train_acc 78.625            \n",
      "\u001b[34m2024-05-11 23:11:01.668\u001b[0m | \u001b[1m      INFO      \u001b[0m | 👷 epoch 12 lr 0.005393156777151657\n",
      "\u001b[34m2024-05-11 23:11:14.875\u001b[0m | \u001b[1m      INFO      \u001b[0m | 👷 train_acc 79.76             \n",
      "\u001b[34m2024-05-11 23:11:14.875\u001b[0m | \u001b[1m      INFO      \u001b[0m | 👷 epoch 13 lr 0.003890065057167635\n",
      "\u001b[34m2024-05-11 23:11:28.067\u001b[0m | \u001b[1m      INFO      \u001b[0m | 👷 train_acc 80.7775           \n",
      "\u001b[34m2024-05-11 23:11:28.068\u001b[0m | \u001b[1m      INFO      \u001b[0m | 👷 epoch 14 lr 0.00260138793262474\n",
      "\u001b[34m2024-05-11 23:11:41.402\u001b[0m | \u001b[1m      INFO      \u001b[0m | 👷 train_acc 81.7125           \n",
      "\u001b[34m2024-05-11 23:11:41.402\u001b[0m | \u001b[1m      INFO      \u001b[0m | 👷 epoch 15 lr 0.0015566470173559216\n",
      "\u001b[34m2024-05-11 23:11:54.715\u001b[0m | \u001b[1m      INFO      \u001b[0m | 👷 train_acc 82.475            \n",
      "\u001b[34m2024-05-11 23:11:54.716\u001b[0m | \u001b[1m      INFO      \u001b[0m | 👷 epoch 16 lr 0.0007775284593137723\n",
      "\u001b[34m2024-05-11 23:12:08.057\u001b[0m | \u001b[1m      INFO      \u001b[0m | 👷 train_acc 83.1375           \n",
      "\u001b[34m2024-05-11 23:12:08.057\u001b[0m | \u001b[1m      INFO      \u001b[0m | 👷 epoch 17 lr 0.0002747256864835802\n"
     ]
    }
   ],
   "source": [
    "start_time = datetime.now()\n",
    "performance = train_search.main(genome=genome_string,\n",
    "                                            search_space = 'macro',\n",
    "                                            init_channels = 36,\n",
    "                                            layers=15, cutout=True,\n",
    "                                            epochs=20,\n",
    "                                            save='arch_{}'.format(1),\n",
    "                                            expr_root='')\n",
    "# Get the current time after running the code\n",
    "end_time = datetime.now()\n",
    "\n",
    "# Calculate the duration it took to run the code\n",
    "duration = end_time - start_time\n",
    "print(f\"The code took {duration} to run.\")\n"
   ]
  },
  {
   "cell_type": "code",
   "execution_count": null,
   "metadata": {},
   "outputs": [],
   "source": []
  },
  {
   "cell_type": "code",
   "execution_count": 26,
   "metadata": {},
   "outputs": [
    {
     "data": {
      "application/vnd.plotly.v1+json": {
       "config": {
        "plotlyServerURL": "https://plot.ly"
       },
       "data": [
        {
         "hoverinfo": "x+y+text",
         "marker": {
          "size": 10
         },
         "mode": "markers",
         "name": "Validation Accuracy",
         "text": [
          "236",
          "109",
          "7",
          "215",
          "3",
          "152",
          "38",
          "127",
          "249",
          "228",
          "185",
          "4",
          "165",
          "110",
          "79",
          "232",
          "3",
          "93",
          "246",
          "18",
          "101",
          "235",
          "48",
          "97",
          "109",
          "147",
          "40",
          "126",
          "141",
          "128",
          "126",
          "238",
          "166",
          "203",
          "255",
          "186",
          "72",
          "44",
          "202",
          "191",
          "84",
          "78",
          "136"
         ],
         "type": "scatter",
         "x": [
          152.0215,
          162.5677,
          163.6855,
          167.2819,
          168.4483,
          169.6147,
          170.7325,
          173.1139,
          175.4467,
          178.9945,
          181.3273,
          185.9929,
          190.6585,
          195.1809,
          201.0615,
          203.1803,
          203.5861,
          209.2263,
          211.5591,
          212.9659,
          218.3921,
          220.9389,
          221.1307,
          224.6299,
          225.4391,
          228.1291,
          233.8179,
          248.164,
          259.1478,
          269.694,
          271.3831,
          282.7385,
          289.5714,
          293.1192,
          294.6165,
          297.2701,
          303.6168,
          308.2824,
          315.6167,
          322.6486,
          350.3264,
          356.107,
          374.4687
         ],
         "y": [
          92.81,
          93.22,
          93.07,
          92.52,
          92.79,
          92.65,
          93.17,
          92.31,
          93.44,
          93.12,
          93.07,
          92.7,
          93.81,
          94.69,
          94.61,
          94.55,
          93.79,
          94.9,
          94.41,
          93.72,
          94.71,
          94.33,
          93.7,
          93.94,
          94.91,
          94.11,
          94.62,
          95.09,
          94.89,
          95.11,
          94.14,
          95.14,
          95.1,
          95.09,
          94.96,
          95.11,
          95.08,
          95.32,
          95.14,
          95.35,
          95.26,
          95.36,
          95.64
         ]
        }
       ],
       "layout": {
        "template": {
         "data": {
          "bar": [
           {
            "error_x": {
             "color": "#f2f5fa"
            },
            "error_y": {
             "color": "#f2f5fa"
            },
            "marker": {
             "line": {
              "color": "rgb(17,17,17)",
              "width": 0.5
             },
             "pattern": {
              "fillmode": "overlay",
              "size": 10,
              "solidity": 0.2
             }
            },
            "type": "bar"
           }
          ],
          "barpolar": [
           {
            "marker": {
             "line": {
              "color": "rgb(17,17,17)",
              "width": 0.5
             },
             "pattern": {
              "fillmode": "overlay",
              "size": 10,
              "solidity": 0.2
             }
            },
            "type": "barpolar"
           }
          ],
          "carpet": [
           {
            "aaxis": {
             "endlinecolor": "#A2B1C6",
             "gridcolor": "#506784",
             "linecolor": "#506784",
             "minorgridcolor": "#506784",
             "startlinecolor": "#A2B1C6"
            },
            "baxis": {
             "endlinecolor": "#A2B1C6",
             "gridcolor": "#506784",
             "linecolor": "#506784",
             "minorgridcolor": "#506784",
             "startlinecolor": "#A2B1C6"
            },
            "type": "carpet"
           }
          ],
          "choropleth": [
           {
            "colorbar": {
             "outlinewidth": 0,
             "ticks": ""
            },
            "type": "choropleth"
           }
          ],
          "contour": [
           {
            "colorbar": {
             "outlinewidth": 0,
             "ticks": ""
            },
            "colorscale": [
             [
              0,
              "#0d0887"
             ],
             [
              0.1111111111111111,
              "#46039f"
             ],
             [
              0.2222222222222222,
              "#7201a8"
             ],
             [
              0.3333333333333333,
              "#9c179e"
             ],
             [
              0.4444444444444444,
              "#bd3786"
             ],
             [
              0.5555555555555556,
              "#d8576b"
             ],
             [
              0.6666666666666666,
              "#ed7953"
             ],
             [
              0.7777777777777778,
              "#fb9f3a"
             ],
             [
              0.8888888888888888,
              "#fdca26"
             ],
             [
              1,
              "#f0f921"
             ]
            ],
            "type": "contour"
           }
          ],
          "contourcarpet": [
           {
            "colorbar": {
             "outlinewidth": 0,
             "ticks": ""
            },
            "type": "contourcarpet"
           }
          ],
          "heatmap": [
           {
            "colorbar": {
             "outlinewidth": 0,
             "ticks": ""
            },
            "colorscale": [
             [
              0,
              "#0d0887"
             ],
             [
              0.1111111111111111,
              "#46039f"
             ],
             [
              0.2222222222222222,
              "#7201a8"
             ],
             [
              0.3333333333333333,
              "#9c179e"
             ],
             [
              0.4444444444444444,
              "#bd3786"
             ],
             [
              0.5555555555555556,
              "#d8576b"
             ],
             [
              0.6666666666666666,
              "#ed7953"
             ],
             [
              0.7777777777777778,
              "#fb9f3a"
             ],
             [
              0.8888888888888888,
              "#fdca26"
             ],
             [
              1,
              "#f0f921"
             ]
            ],
            "type": "heatmap"
           }
          ],
          "heatmapgl": [
           {
            "colorbar": {
             "outlinewidth": 0,
             "ticks": ""
            },
            "colorscale": [
             [
              0,
              "#0d0887"
             ],
             [
              0.1111111111111111,
              "#46039f"
             ],
             [
              0.2222222222222222,
              "#7201a8"
             ],
             [
              0.3333333333333333,
              "#9c179e"
             ],
             [
              0.4444444444444444,
              "#bd3786"
             ],
             [
              0.5555555555555556,
              "#d8576b"
             ],
             [
              0.6666666666666666,
              "#ed7953"
             ],
             [
              0.7777777777777778,
              "#fb9f3a"
             ],
             [
              0.8888888888888888,
              "#fdca26"
             ],
             [
              1,
              "#f0f921"
             ]
            ],
            "type": "heatmapgl"
           }
          ],
          "histogram": [
           {
            "marker": {
             "pattern": {
              "fillmode": "overlay",
              "size": 10,
              "solidity": 0.2
             }
            },
            "type": "histogram"
           }
          ],
          "histogram2d": [
           {
            "colorbar": {
             "outlinewidth": 0,
             "ticks": ""
            },
            "colorscale": [
             [
              0,
              "#0d0887"
             ],
             [
              0.1111111111111111,
              "#46039f"
             ],
             [
              0.2222222222222222,
              "#7201a8"
             ],
             [
              0.3333333333333333,
              "#9c179e"
             ],
             [
              0.4444444444444444,
              "#bd3786"
             ],
             [
              0.5555555555555556,
              "#d8576b"
             ],
             [
              0.6666666666666666,
              "#ed7953"
             ],
             [
              0.7777777777777778,
              "#fb9f3a"
             ],
             [
              0.8888888888888888,
              "#fdca26"
             ],
             [
              1,
              "#f0f921"
             ]
            ],
            "type": "histogram2d"
           }
          ],
          "histogram2dcontour": [
           {
            "colorbar": {
             "outlinewidth": 0,
             "ticks": ""
            },
            "colorscale": [
             [
              0,
              "#0d0887"
             ],
             [
              0.1111111111111111,
              "#46039f"
             ],
             [
              0.2222222222222222,
              "#7201a8"
             ],
             [
              0.3333333333333333,
              "#9c179e"
             ],
             [
              0.4444444444444444,
              "#bd3786"
             ],
             [
              0.5555555555555556,
              "#d8576b"
             ],
             [
              0.6666666666666666,
              "#ed7953"
             ],
             [
              0.7777777777777778,
              "#fb9f3a"
             ],
             [
              0.8888888888888888,
              "#fdca26"
             ],
             [
              1,
              "#f0f921"
             ]
            ],
            "type": "histogram2dcontour"
           }
          ],
          "mesh3d": [
           {
            "colorbar": {
             "outlinewidth": 0,
             "ticks": ""
            },
            "type": "mesh3d"
           }
          ],
          "parcoords": [
           {
            "line": {
             "colorbar": {
              "outlinewidth": 0,
              "ticks": ""
             }
            },
            "type": "parcoords"
           }
          ],
          "pie": [
           {
            "automargin": true,
            "type": "pie"
           }
          ],
          "scatter": [
           {
            "marker": {
             "line": {
              "color": "#283442"
             }
            },
            "type": "scatter"
           }
          ],
          "scatter3d": [
           {
            "line": {
             "colorbar": {
              "outlinewidth": 0,
              "ticks": ""
             }
            },
            "marker": {
             "colorbar": {
              "outlinewidth": 0,
              "ticks": ""
             }
            },
            "type": "scatter3d"
           }
          ],
          "scattercarpet": [
           {
            "marker": {
             "colorbar": {
              "outlinewidth": 0,
              "ticks": ""
             }
            },
            "type": "scattercarpet"
           }
          ],
          "scattergeo": [
           {
            "marker": {
             "colorbar": {
              "outlinewidth": 0,
              "ticks": ""
             }
            },
            "type": "scattergeo"
           }
          ],
          "scattergl": [
           {
            "marker": {
             "line": {
              "color": "#283442"
             }
            },
            "type": "scattergl"
           }
          ],
          "scattermapbox": [
           {
            "marker": {
             "colorbar": {
              "outlinewidth": 0,
              "ticks": ""
             }
            },
            "type": "scattermapbox"
           }
          ],
          "scatterpolar": [
           {
            "marker": {
             "colorbar": {
              "outlinewidth": 0,
              "ticks": ""
             }
            },
            "type": "scatterpolar"
           }
          ],
          "scatterpolargl": [
           {
            "marker": {
             "colorbar": {
              "outlinewidth": 0,
              "ticks": ""
             }
            },
            "type": "scatterpolargl"
           }
          ],
          "scatterternary": [
           {
            "marker": {
             "colorbar": {
              "outlinewidth": 0,
              "ticks": ""
             }
            },
            "type": "scatterternary"
           }
          ],
          "surface": [
           {
            "colorbar": {
             "outlinewidth": 0,
             "ticks": ""
            },
            "colorscale": [
             [
              0,
              "#0d0887"
             ],
             [
              0.1111111111111111,
              "#46039f"
             ],
             [
              0.2222222222222222,
              "#7201a8"
             ],
             [
              0.3333333333333333,
              "#9c179e"
             ],
             [
              0.4444444444444444,
              "#bd3786"
             ],
             [
              0.5555555555555556,
              "#d8576b"
             ],
             [
              0.6666666666666666,
              "#ed7953"
             ],
             [
              0.7777777777777778,
              "#fb9f3a"
             ],
             [
              0.8888888888888888,
              "#fdca26"
             ],
             [
              1,
              "#f0f921"
             ]
            ],
            "type": "surface"
           }
          ],
          "table": [
           {
            "cells": {
             "fill": {
              "color": "#506784"
             },
             "line": {
              "color": "rgb(17,17,17)"
             }
            },
            "header": {
             "fill": {
              "color": "#2a3f5f"
             },
             "line": {
              "color": "rgb(17,17,17)"
             }
            },
            "type": "table"
           }
          ]
         },
         "layout": {
          "annotationdefaults": {
           "arrowcolor": "#f2f5fa",
           "arrowhead": 0,
           "arrowwidth": 1
          },
          "autotypenumbers": "strict",
          "coloraxis": {
           "colorbar": {
            "outlinewidth": 0,
            "ticks": ""
           }
          },
          "colorscale": {
           "diverging": [
            [
             0,
             "#8e0152"
            ],
            [
             0.1,
             "#c51b7d"
            ],
            [
             0.2,
             "#de77ae"
            ],
            [
             0.3,
             "#f1b6da"
            ],
            [
             0.4,
             "#fde0ef"
            ],
            [
             0.5,
             "#f7f7f7"
            ],
            [
             0.6,
             "#e6f5d0"
            ],
            [
             0.7,
             "#b8e186"
            ],
            [
             0.8,
             "#7fbc41"
            ],
            [
             0.9,
             "#4d9221"
            ],
            [
             1,
             "#276419"
            ]
           ],
           "sequential": [
            [
             0,
             "#0d0887"
            ],
            [
             0.1111111111111111,
             "#46039f"
            ],
            [
             0.2222222222222222,
             "#7201a8"
            ],
            [
             0.3333333333333333,
             "#9c179e"
            ],
            [
             0.4444444444444444,
             "#bd3786"
            ],
            [
             0.5555555555555556,
             "#d8576b"
            ],
            [
             0.6666666666666666,
             "#ed7953"
            ],
            [
             0.7777777777777778,
             "#fb9f3a"
            ],
            [
             0.8888888888888888,
             "#fdca26"
            ],
            [
             1,
             "#f0f921"
            ]
           ],
           "sequentialminus": [
            [
             0,
             "#0d0887"
            ],
            [
             0.1111111111111111,
             "#46039f"
            ],
            [
             0.2222222222222222,
             "#7201a8"
            ],
            [
             0.3333333333333333,
             "#9c179e"
            ],
            [
             0.4444444444444444,
             "#bd3786"
            ],
            [
             0.5555555555555556,
             "#d8576b"
            ],
            [
             0.6666666666666666,
             "#ed7953"
            ],
            [
             0.7777777777777778,
             "#fb9f3a"
            ],
            [
             0.8888888888888888,
             "#fdca26"
            ],
            [
             1,
             "#f0f921"
            ]
           ]
          },
          "colorway": [
           "#636efa",
           "#EF553B",
           "#00cc96",
           "#ab63fa",
           "#FFA15A",
           "#19d3f3",
           "#FF6692",
           "#B6E880",
           "#FF97FF",
           "#FECB52"
          ],
          "font": {
           "color": "#f2f5fa"
          },
          "geo": {
           "bgcolor": "rgb(17,17,17)",
           "lakecolor": "rgb(17,17,17)",
           "landcolor": "rgb(17,17,17)",
           "showlakes": true,
           "showland": true,
           "subunitcolor": "#506784"
          },
          "hoverlabel": {
           "align": "left"
          },
          "hovermode": "closest",
          "mapbox": {
           "style": "dark"
          },
          "paper_bgcolor": "rgb(17,17,17)",
          "plot_bgcolor": "rgb(17,17,17)",
          "polar": {
           "angularaxis": {
            "gridcolor": "#506784",
            "linecolor": "#506784",
            "ticks": ""
           },
           "bgcolor": "rgb(17,17,17)",
           "radialaxis": {
            "gridcolor": "#506784",
            "linecolor": "#506784",
            "ticks": ""
           }
          },
          "scene": {
           "xaxis": {
            "backgroundcolor": "rgb(17,17,17)",
            "gridcolor": "#506784",
            "gridwidth": 2,
            "linecolor": "#506784",
            "showbackground": true,
            "ticks": "",
            "zerolinecolor": "#C8D4E3"
           },
           "yaxis": {
            "backgroundcolor": "rgb(17,17,17)",
            "gridcolor": "#506784",
            "gridwidth": 2,
            "linecolor": "#506784",
            "showbackground": true,
            "ticks": "",
            "zerolinecolor": "#C8D4E3"
           },
           "zaxis": {
            "backgroundcolor": "rgb(17,17,17)",
            "gridcolor": "#506784",
            "gridwidth": 2,
            "linecolor": "#506784",
            "showbackground": true,
            "ticks": "",
            "zerolinecolor": "#C8D4E3"
           }
          },
          "shapedefaults": {
           "line": {
            "color": "#f2f5fa"
           }
          },
          "sliderdefaults": {
           "bgcolor": "#C8D4E3",
           "bordercolor": "rgb(17,17,17)",
           "borderwidth": 1,
           "tickwidth": 0
          },
          "ternary": {
           "aaxis": {
            "gridcolor": "#506784",
            "linecolor": "#506784",
            "ticks": ""
           },
           "baxis": {
            "gridcolor": "#506784",
            "linecolor": "#506784",
            "ticks": ""
           },
           "bgcolor": "rgb(17,17,17)",
           "caxis": {
            "gridcolor": "#506784",
            "linecolor": "#506784",
            "ticks": ""
           }
          },
          "title": {
           "x": 0.05
          },
          "updatemenudefaults": {
           "bgcolor": "#506784",
           "borderwidth": 0
          },
          "xaxis": {
           "automargin": true,
           "gridcolor": "#283442",
           "linecolor": "#506784",
           "ticks": "",
           "title": {
            "standoff": 15
           },
           "zerolinecolor": "#283442",
           "zerolinewidth": 2
          },
          "yaxis": {
           "automargin": true,
           "gridcolor": "#283442",
           "linecolor": "#506784",
           "ticks": "",
           "title": {
            "standoff": 15
           },
           "zerolinecolor": "#283442",
           "zerolinewidth": 2
          }
         }
        },
        "title": {
         "text": "Validation Accuracy vs FLOPS"
        },
        "xaxis": {
         "title": {
          "text": "FLOPS"
         }
        },
        "yaxis": {
         "title": {
          "text": "Validation Accuracy"
         }
        }
       }
      }
     },
     "metadata": {},
     "output_type": "display_data"
    },
    {
     "ename": "",
     "evalue": "",
     "output_type": "error",
     "traceback": [
      "\u001b[1;31mThe Kernel crashed while executing code in the the current cell or a previous cell. Please review the code in the cell(s) to identify a possible cause of the failure. Click <a href='https://aka.ms/vscodeJupyterKernelCrash'>here</a> for more info. View Jupyter <a href='command:jupyter.viewOutput'>log</a> for further details."
     ]
    }
   ],
   "source": [
    "import plotly.graph_objs as go\n",
    "\n",
    "data = results\n",
    "\n",
    "# Choose the parameter to use for sorting (params or flops)\n",
    "sort_key = 'flops'\n",
    "\n",
    "# Sort the data based on the chosen parameter\n",
    "sorted_data = sorted(data, key=lambda x: x[sort_key])\n",
    "\n",
    "# Extract x and y values\n",
    "x_values = [entry[sort_key] for entry in sorted_data]\n",
    "y_values = [entry['valid_acc'] for entry in sorted_data]\n",
    "uid_values = [entry['uid'] for entry in sorted_data]\n",
    "\n",
    "# Create the scatter plot\n",
    "fig = go.Figure()\n",
    "\n",
    "fig.add_trace(go.Scatter(x=x_values, y=y_values, mode='markers', text=uid_values,\n",
    "                          marker=dict(size=10),\n",
    "                          hoverinfo='x+y+text', name='Validation Accuracy'))\n",
    "\n",
    "# Add axis labels and title\n",
    "if sort_key == 'params':\n",
    "    fig.update_layout(xaxis_title='Parameters', yaxis_title='Validation Accuracy', title='Validation Accuracy vs Parameters')\n",
    "else:\n",
    "    fig.update_layout(xaxis_title='FLOPS', yaxis_title='Validation Accuracy', title='Validation Accuracy vs FLOPS')\n",
    "\n",
    "# Set dark theme\n",
    "fig.update_layout(template='plotly_dark')\n",
    "\n",
    "# Show plot\n",
    "fig.show()"
   ]
  }
 ],
 "metadata": {
  "kernelspec": {
   "display_name": "bittensor",
   "language": "python",
   "name": "python3"
  },
  "language_info": {
   "codemirror_mode": {
    "name": "ipython",
    "version": 3
   },
   "file_extension": ".py",
   "mimetype": "text/x-python",
   "name": "python",
   "nbconvert_exporter": "python",
   "pygments_lexer": "ipython3",
   "version": "3.10.13"
  },
  "orig_nbformat": 4,
  "vscode": {
   "interpreter": {
    "hash": "60050d296a7c7bf3d3a9a3faa6bc7a0dd371cb2fa748389cf16a6d13b60865ba"
   }
  }
 },
 "nbformat": 4,
 "nbformat_minor": 2
}
